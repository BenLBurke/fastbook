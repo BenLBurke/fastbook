{
 "cells": [
  {
   "cell_type": "code",
   "execution_count": 1,
   "id": "08409bfe",
   "metadata": {
    "execution": {
     "iopub.execute_input": "2023-04-01T13:34:18.278538Z",
     "iopub.status.busy": "2023-04-01T13:34:18.278105Z",
     "iopub.status.idle": "2023-04-01T13:34:37.513069Z",
     "shell.execute_reply": "2023-04-01T13:34:37.511809Z"
    },
    "papermill": {
     "duration": 19.244475,
     "end_time": "2023-04-01T13:34:37.516263",
     "exception": false,
     "start_time": "2023-04-01T13:34:18.271788",
     "status": "completed"
    },
    "tags": []
   },
   "outputs": [],
   "source": [
    "! pip install -Uqq fastai gradio"
   ]
  },
  {
   "cell_type": "code",
   "execution_count": 2,
   "id": "e7ae9ea8",
   "metadata": {
    "execution": {
     "iopub.execute_input": "2023-04-01T13:34:37.525434Z",
     "iopub.status.busy": "2023-04-01T13:34:37.524536Z",
     "iopub.status.idle": "2023-04-01T13:34:39.732080Z",
     "shell.execute_reply": "2023-04-01T13:34:39.730466Z"
    },
    "papermill": {
     "duration": 2.21562,
     "end_time": "2023-04-01T13:34:39.735385",
     "exception": false,
     "start_time": "2023-04-01T13:34:37.519765",
     "status": "completed"
    },
    "tags": []
   },
   "outputs": [],
   "source": [
    "import gradio as gr"
   ]
  },
  {
   "cell_type": "code",
   "execution_count": 3,
   "id": "3ad931f5",
   "metadata": {
    "execution": {
     "iopub.execute_input": "2023-04-01T13:34:39.744020Z",
     "iopub.status.busy": "2023-04-01T13:34:39.743335Z",
     "iopub.status.idle": "2023-04-01T13:34:44.947481Z",
     "shell.execute_reply": "2023-04-01T13:34:44.945576Z"
    },
    "papermill": {
     "duration": 5.212001,
     "end_time": "2023-04-01T13:34:44.950764",
     "exception": false,
     "start_time": "2023-04-01T13:34:39.738763",
     "status": "completed"
    },
    "tags": []
   },
   "outputs": [],
   "source": [
    "from fastai.vision.all import *"
   ]
  },
  {
   "cell_type": "code",
   "execution_count": 4,
   "id": "db0c1263",
   "metadata": {
    "execution": {
     "iopub.execute_input": "2023-04-01T13:34:44.959775Z",
     "iopub.status.busy": "2023-04-01T13:34:44.959075Z",
     "iopub.status.idle": "2023-04-01T13:34:44.981052Z",
     "shell.execute_reply": "2023-04-01T13:34:44.979732Z"
    },
    "papermill": {
     "duration": 0.029613,
     "end_time": "2023-04-01T13:34:44.983672",
     "exception": false,
     "start_time": "2023-04-01T13:34:44.954059",
     "status": "completed"
    },
    "tags": []
   },
   "outputs": [
    {
     "data": {
      "text/plain": [
       "(#1) [Path('/kaggle/input/poison-ivy-infer/poison_ivy.jpg')]"
      ]
     },
     "execution_count": 4,
     "metadata": {},
     "output_type": "execute_result"
    }
   ],
   "source": [
    "path = Path('/kaggle/input/poison-ivy-infer/')\n",
    "path.ls()"
   ]
  },
  {
   "cell_type": "code",
   "execution_count": 5,
   "id": "1318e988",
   "metadata": {
    "execution": {
     "iopub.execute_input": "2023-04-01T13:34:44.993026Z",
     "iopub.status.busy": "2023-04-01T13:34:44.991665Z",
     "iopub.status.idle": "2023-04-01T13:34:44.997766Z",
     "shell.execute_reply": "2023-04-01T13:34:44.996491Z"
    },
    "papermill": {
     "duration": 0.013446,
     "end_time": "2023-04-01T13:34:45.000480",
     "exception": false,
     "start_time": "2023-04-01T13:34:44.987034",
     "status": "completed"
    },
    "tags": []
   },
   "outputs": [],
   "source": [
    "plant_type = 'posion_ivy plant','virgina creeper plant', 'Boxelder plant', 'Jack-in-the-Pulpit plant'"
   ]
  },
  {
   "cell_type": "code",
   "execution_count": 6,
   "id": "5bf58645",
   "metadata": {
    "execution": {
     "iopub.execute_input": "2023-04-01T13:34:45.009300Z",
     "iopub.status.busy": "2023-04-01T13:34:45.008471Z",
     "iopub.status.idle": "2023-04-01T13:34:45.015308Z",
     "shell.execute_reply": "2023-04-01T13:34:45.013895Z"
    },
    "papermill": {
     "duration": 0.01386,
     "end_time": "2023-04-01T13:34:45.017781",
     "exception": false,
     "start_time": "2023-04-01T13:34:45.003921",
     "status": "completed"
    },
    "tags": []
   },
   "outputs": [],
   "source": [
    "def classify_image(img):\n",
    "    is_poison,_,probs = learn.predict(img)\n",
    "    return dict(zip(plant_type, map(float,probs)))"
   ]
  },
  {
   "cell_type": "code",
   "execution_count": 7,
   "id": "47d776aa",
   "metadata": {
    "execution": {
     "iopub.execute_input": "2023-04-01T13:34:45.027051Z",
     "iopub.status.busy": "2023-04-01T13:34:45.026085Z",
     "iopub.status.idle": "2023-04-01T13:34:45.946388Z",
     "shell.execute_reply": "2023-04-01T13:34:45.945257Z"
    },
    "papermill": {
     "duration": 0.927786,
     "end_time": "2023-04-01T13:34:45.948986",
     "exception": false,
     "start_time": "2023-04-01T13:34:45.021200",
     "status": "completed"
    },
    "tags": []
   },
   "outputs": [],
   "source": [
    "learn = load_learner('/kaggle/input/export/export.pkl')"
   ]
  },
  {
   "cell_type": "code",
   "execution_count": 8,
   "id": "3cd77046",
   "metadata": {
    "execution": {
     "iopub.execute_input": "2023-04-01T13:34:45.958019Z",
     "iopub.status.busy": "2023-04-01T13:34:45.957245Z",
     "iopub.status.idle": "2023-04-01T13:34:46.275767Z",
     "shell.execute_reply": "2023-04-01T13:34:46.274903Z"
    },
    "papermill": {
     "duration": 0.325687,
     "end_time": "2023-04-01T13:34:46.278166",
     "exception": false,
     "start_time": "2023-04-01T13:34:45.952479",
     "status": "completed"
    },
    "tags": []
   },
   "outputs": [
    {
     "data": {
      "text/html": [
       "\n",
       "<style>\n",
       "    /* Turns off some styling */\n",
       "    progress {\n",
       "        /* gets rid of default border in Firefox and Opera. */\n",
       "        border: none;\n",
       "        /* Needs to be in here for Safari polyfill so background images work as expected. */\n",
       "        background-size: auto;\n",
       "    }\n",
       "    progress:not([value]), progress:not([value])::-webkit-progress-bar {\n",
       "        background: repeating-linear-gradient(45deg, #7e7e7e, #7e7e7e 10px, #5c5c5c 10px, #5c5c5c 20px);\n",
       "    }\n",
       "    .progress-bar-interrupted, .progress-bar-interrupted::-webkit-progress-bar {\n",
       "        background: #F44336;\n",
       "    }\n",
       "</style>\n"
      ],
      "text/plain": [
       "<IPython.core.display.HTML object>"
      ]
     },
     "metadata": {},
     "output_type": "display_data"
    },
    {
     "data": {
      "text/html": [],
      "text/plain": [
       "<IPython.core.display.HTML object>"
      ]
     },
     "metadata": {},
     "output_type": "display_data"
    },
    {
     "data": {
      "text/plain": [
       "{'posion_ivy plant': 0.008884155191481113,\n",
       " 'virgina creeper plant': 0.00033929641358554363,\n",
       " 'Boxelder plant': 0.9874273538589478,\n",
       " 'Jack-in-the-Pulpit plant': 0.003349254373461008}"
      ]
     },
     "execution_count": 8,
     "metadata": {},
     "output_type": "execute_result"
    }
   ],
   "source": [
    "classify_image('/kaggle/input/poison-ivy-infer/poison_ivy.jpg')"
   ]
  },
  {
   "cell_type": "code",
   "execution_count": 9,
   "id": "dbc93792",
   "metadata": {
    "execution": {
     "iopub.execute_input": "2023-04-01T13:34:46.288248Z",
     "iopub.status.busy": "2023-04-01T13:34:46.287843Z",
     "iopub.status.idle": "2023-04-01T13:34:56.486349Z",
     "shell.execute_reply": "2023-04-01T13:34:56.484661Z"
    },
    "papermill": {
     "duration": 10.20648,
     "end_time": "2023-04-01T13:34:56.488979",
     "exception": false,
     "start_time": "2023-04-01T13:34:46.282499",
     "status": "completed"
    },
    "tags": []
   },
   "outputs": [
    {
     "name": "stderr",
     "output_type": "stream",
     "text": [
      "/opt/conda/lib/python3.7/site-packages/gradio/inputs.py:258: UserWarning: Usage of gradio.inputs is deprecated, and will not be supported in the future, please import your component from gradio.components\n",
      "  \"Usage of gradio.inputs is deprecated, and will not be supported in the future, please import your component from gradio.components\",\n",
      "/opt/conda/lib/python3.7/site-packages/gradio/deprecation.py:40: UserWarning: `optional` parameter is deprecated, and it has no effect\n",
      "  warnings.warn(value)\n",
      "/opt/conda/lib/python3.7/site-packages/gradio/outputs.py:198: UserWarning: Usage of gradio.outputs is deprecated, and will not be supported in the future, please import your components from gradio.components\n",
      "  \"Usage of gradio.outputs is deprecated, and will not be supported in the future, please import your components from gradio.components\",\n",
      "/opt/conda/lib/python3.7/site-packages/gradio/deprecation.py:40: UserWarning: The 'type' parameter has been deprecated. Use the Number component instead.\n",
      "  warnings.warn(value)\n"
     ]
    },
    {
     "name": "stdout",
     "output_type": "stream",
     "text": [
      "Kaggle notebooks require sharing enabled. Setting `share=True` (you can turn this off by setting `share=False` in `launch()` explicitly).\n",
      "\n",
      "Running on local URL:  http://127.0.0.1:7860\n",
      "Running on public URL: https://4245a4329db8c55a8e.gradio.live\n",
      "\n",
      "This share link expires in 72 hours. For free permanent hosting and GPU upgrades (NEW!), check out Spaces: https://huggingface.co/spaces\n"
     ]
    },
    {
     "data": {
      "text/plain": []
     },
     "execution_count": 9,
     "metadata": {},
     "output_type": "execute_result"
    }
   ],
   "source": [
    "image = gr.inputs.Image(shape=(192,192))\n",
    "label = gr.outputs.Label()\n",
    "examples= ['/kaggle/input/poison-ivy-infer/poison_ivy.jpg']\n",
    "\n",
    "intf = gr.Interface(fn=classify_image, inputs=image, outputs = label, examples = examples)\n",
    "intf.launch(inline=False)"
   ]
  }
 ],
 "metadata": {
  "kernelspec": {
   "display_name": "Python 3",
   "language": "python",
   "name": "python3"
  },
  "language_info": {
   "codemirror_mode": {
    "name": "ipython",
    "version": 3
   },
   "file_extension": ".py",
   "mimetype": "text/x-python",
   "name": "python",
   "nbconvert_exporter": "python",
   "pygments_lexer": "ipython3",
   "version": "3.7.12"
  },
  "papermill": {
   "default_parameters": {},
   "duration": 51.80019,
   "end_time": "2023-04-01T13:34:59.117452",
   "environment_variables": {},
   "exception": null,
   "input_path": "__notebook__.ipynb",
   "output_path": "__notebook__.ipynb",
   "parameters": {},
   "start_time": "2023-04-01T13:34:07.317262",
   "version": "2.4.0"
  }
 },
 "nbformat": 4,
 "nbformat_minor": 5
}

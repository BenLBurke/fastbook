{
 "cells": [
  {
   "cell_type": "code",
   "execution_count": 1,
   "id": "47462a81",
   "metadata": {
    "execution": {
     "iopub.execute_input": "2023-04-01T16:39:37.626043Z",
     "iopub.status.busy": "2023-04-01T16:39:37.625577Z",
     "iopub.status.idle": "2023-04-01T16:39:57.030840Z",
     "shell.execute_reply": "2023-04-01T16:39:57.029043Z"
    },
    "papermill": {
     "duration": 19.41398,
     "end_time": "2023-04-01T16:39:57.034094",
     "exception": false,
     "start_time": "2023-04-01T16:39:37.620114",
     "status": "completed"
    },
    "tags": []
   },
   "outputs": [],
   "source": [
    "! pip install -Uqq fastai gradio"
   ]
  },
  {
   "cell_type": "code",
   "execution_count": 2,
   "id": "4379ca08",
   "metadata": {
    "execution": {
     "iopub.execute_input": "2023-04-01T16:39:57.042079Z",
     "iopub.status.busy": "2023-04-01T16:39:57.041461Z",
     "iopub.status.idle": "2023-04-01T16:39:59.241374Z",
     "shell.execute_reply": "2023-04-01T16:39:59.239713Z"
    },
    "papermill": {
     "duration": 2.207379,
     "end_time": "2023-04-01T16:39:59.244510",
     "exception": false,
     "start_time": "2023-04-01T16:39:57.037131",
     "status": "completed"
    },
    "tags": []
   },
   "outputs": [],
   "source": [
    "import gradio as gr"
   ]
  },
  {
   "cell_type": "code",
   "execution_count": 3,
   "id": "8958b76c",
   "metadata": {
    "execution": {
     "iopub.execute_input": "2023-04-01T16:39:59.252801Z",
     "iopub.status.busy": "2023-04-01T16:39:59.252086Z",
     "iopub.status.idle": "2023-04-01T16:40:04.548495Z",
     "shell.execute_reply": "2023-04-01T16:40:04.546555Z"
    },
    "papermill": {
     "duration": 5.304509,
     "end_time": "2023-04-01T16:40:04.552074",
     "exception": false,
     "start_time": "2023-04-01T16:39:59.247565",
     "status": "completed"
    },
    "tags": []
   },
   "outputs": [],
   "source": [
    "from fastai.vision.all import *"
   ]
  },
  {
   "cell_type": "code",
   "execution_count": 4,
   "id": "c2b97f11",
   "metadata": {
    "execution": {
     "iopub.execute_input": "2023-04-01T16:40:04.560052Z",
     "iopub.status.busy": "2023-04-01T16:40:04.559565Z",
     "iopub.status.idle": "2023-04-01T16:40:04.574435Z",
     "shell.execute_reply": "2023-04-01T16:40:04.572822Z"
    },
    "papermill": {
     "duration": 0.022632,
     "end_time": "2023-04-01T16:40:04.577644",
     "exception": false,
     "start_time": "2023-04-01T16:40:04.555012",
     "status": "completed"
    },
    "tags": []
   },
   "outputs": [
    {
     "data": {
      "text/plain": [
       "(#1) [Path('/kaggle/input/poison-ivy-infer/poison_ivy.jpg')]"
      ]
     },
     "execution_count": 4,
     "metadata": {},
     "output_type": "execute_result"
    }
   ],
   "source": [
    "path = Path('/kaggle/input/poison-ivy-infer/')\n",
    "path.ls()"
   ]
  },
  {
   "cell_type": "code",
   "execution_count": 5,
   "id": "bdbfba72",
   "metadata": {
    "execution": {
     "iopub.execute_input": "2023-04-01T16:40:04.585863Z",
     "iopub.status.busy": "2023-04-01T16:40:04.585080Z",
     "iopub.status.idle": "2023-04-01T16:40:04.592999Z",
     "shell.execute_reply": "2023-04-01T16:40:04.591746Z"
    },
    "papermill": {
     "duration": 0.015135,
     "end_time": "2023-04-01T16:40:04.595905",
     "exception": false,
     "start_time": "2023-04-01T16:40:04.580770",
     "status": "completed"
    },
    "tags": []
   },
   "outputs": [],
   "source": [
    "plant_type = ['Boxelder plant', 'Jack-in-the-Pulpit plant', 'posion_ivy plant', 'virgina creeper plant']"
   ]
  },
  {
   "cell_type": "code",
   "execution_count": 6,
   "id": "5882f437",
   "metadata": {
    "execution": {
     "iopub.execute_input": "2023-04-01T16:40:04.603944Z",
     "iopub.status.busy": "2023-04-01T16:40:04.603540Z",
     "iopub.status.idle": "2023-04-01T16:40:04.609222Z",
     "shell.execute_reply": "2023-04-01T16:40:04.607854Z"
    },
    "papermill": {
     "duration": 0.012531,
     "end_time": "2023-04-01T16:40:04.611569",
     "exception": false,
     "start_time": "2023-04-01T16:40:04.599038",
     "status": "completed"
    },
    "tags": []
   },
   "outputs": [],
   "source": [
    "def classify_image(img):\n",
    "    is_poison,_,probs = learn.predict(img)\n",
    "    return dict(zip(plant_type, map(float,probs)))"
   ]
  },
  {
   "cell_type": "code",
   "execution_count": 7,
   "id": "f4beacb5",
   "metadata": {
    "execution": {
     "iopub.execute_input": "2023-04-01T16:40:04.620111Z",
     "iopub.status.busy": "2023-04-01T16:40:04.619077Z",
     "iopub.status.idle": "2023-04-01T16:40:05.707986Z",
     "shell.execute_reply": "2023-04-01T16:40:05.706578Z"
    },
    "papermill": {
     "duration": 1.09641,
     "end_time": "2023-04-01T16:40:05.711235",
     "exception": false,
     "start_time": "2023-04-01T16:40:04.614825",
     "status": "completed"
    },
    "tags": []
   },
   "outputs": [],
   "source": [
    "learn = load_learner('/kaggle/input/posion-ivy-4-1-2023/model_1.pkl')"
   ]
  },
  {
   "cell_type": "code",
   "execution_count": 8,
   "id": "9ef52715",
   "metadata": {
    "execution": {
     "iopub.execute_input": "2023-04-01T16:40:05.719677Z",
     "iopub.status.busy": "2023-04-01T16:40:05.719255Z",
     "iopub.status.idle": "2023-04-01T16:40:06.010291Z",
     "shell.execute_reply": "2023-04-01T16:40:06.009050Z"
    },
    "papermill": {
     "duration": 0.298332,
     "end_time": "2023-04-01T16:40:06.012869",
     "exception": false,
     "start_time": "2023-04-01T16:40:05.714537",
     "status": "completed"
    },
    "tags": []
   },
   "outputs": [
    {
     "data": {
      "text/html": [
       "\n",
       "<style>\n",
       "    /* Turns off some styling */\n",
       "    progress {\n",
       "        /* gets rid of default border in Firefox and Opera. */\n",
       "        border: none;\n",
       "        /* Needs to be in here for Safari polyfill so background images work as expected. */\n",
       "        background-size: auto;\n",
       "    }\n",
       "    progress:not([value]), progress:not([value])::-webkit-progress-bar {\n",
       "        background: repeating-linear-gradient(45deg, #7e7e7e, #7e7e7e 10px, #5c5c5c 10px, #5c5c5c 20px);\n",
       "    }\n",
       "    .progress-bar-interrupted, .progress-bar-interrupted::-webkit-progress-bar {\n",
       "        background: #F44336;\n",
       "    }\n",
       "</style>\n"
      ],
      "text/plain": [
       "<IPython.core.display.HTML object>"
      ]
     },
     "metadata": {},
     "output_type": "display_data"
    },
    {
     "data": {
      "text/html": [],
      "text/plain": [
       "<IPython.core.display.HTML object>"
      ]
     },
     "metadata": {},
     "output_type": "display_data"
    },
    {
     "data": {
      "text/plain": [
       "{'Boxelder plant': 8.055522630456835e-05,\n",
       " 'Jack-in-the-Pulpit plant': 6.53628319469135e-07,\n",
       " 'posion_ivy plant': 0.9998688697814941,\n",
       " 'virgina creeper plant': 4.990909656044096e-05}"
      ]
     },
     "execution_count": 8,
     "metadata": {},
     "output_type": "execute_result"
    }
   ],
   "source": [
    "classify_image('/kaggle/input/poison-ivy-infer/poison_ivy.jpg')"
   ]
  },
  {
   "cell_type": "code",
   "execution_count": 9,
   "id": "9e3cad6e",
   "metadata": {
    "execution": {
     "iopub.execute_input": "2023-04-01T16:40:06.022694Z",
     "iopub.status.busy": "2023-04-01T16:40:06.022276Z",
     "iopub.status.idle": "2023-04-01T16:40:16.840671Z",
     "shell.execute_reply": "2023-04-01T16:40:16.839452Z"
    },
    "papermill": {
     "duration": 10.825821,
     "end_time": "2023-04-01T16:40:16.842859",
     "exception": false,
     "start_time": "2023-04-01T16:40:06.017038",
     "status": "completed"
    },
    "tags": []
   },
   "outputs": [
    {
     "name": "stderr",
     "output_type": "stream",
     "text": [
      "/opt/conda/lib/python3.7/site-packages/gradio/inputs.py:258: UserWarning: Usage of gradio.inputs is deprecated, and will not be supported in the future, please import your component from gradio.components\n",
      "  \"Usage of gradio.inputs is deprecated, and will not be supported in the future, please import your component from gradio.components\",\n",
      "/opt/conda/lib/python3.7/site-packages/gradio/deprecation.py:40: UserWarning: `optional` parameter is deprecated, and it has no effect\n",
      "  warnings.warn(value)\n",
      "/opt/conda/lib/python3.7/site-packages/gradio/outputs.py:198: UserWarning: Usage of gradio.outputs is deprecated, and will not be supported in the future, please import your components from gradio.components\n",
      "  \"Usage of gradio.outputs is deprecated, and will not be supported in the future, please import your components from gradio.components\",\n",
      "/opt/conda/lib/python3.7/site-packages/gradio/deprecation.py:40: UserWarning: The 'type' parameter has been deprecated. Use the Number component instead.\n",
      "  warnings.warn(value)\n"
     ]
    },
    {
     "name": "stdout",
     "output_type": "stream",
     "text": [
      "Kaggle notebooks require sharing enabled. Setting `share=True` (you can turn this off by setting `share=False` in `launch()` explicitly).\n",
      "\n",
      "Running on local URL:  http://127.0.0.1:7860\n",
      "Running on public URL: https://823a7b944a4a23554c.gradio.live\n",
      "\n",
      "This share link expires in 72 hours. For free permanent hosting and GPU upgrades (NEW!), check out Spaces: https://huggingface.co/spaces\n"
     ]
    },
    {
     "data": {
      "text/plain": []
     },
     "execution_count": 9,
     "metadata": {},
     "output_type": "execute_result"
    }
   ],
   "source": [
    "image = gr.inputs.Image(shape=(192,192))\n",
    "label = gr.outputs.Label()\n",
    "examples= ['/kaggle/input/poison-ivy-infer/poison_ivy.jpg']\n",
    "\n",
    "intf = gr.Interface(fn=classify_image, inputs=image, outputs = label, examples = examples)\n",
    "intf.launch(inline=False)"
   ]
  }
 ],
 "metadata": {
  "kernelspec": {
   "display_name": "Python 3",
   "language": "python",
   "name": "python3"
  },
  "language_info": {
   "codemirror_mode": {
    "name": "ipython",
    "version": 3
   },
   "file_extension": ".py",
   "mimetype": "text/x-python",
   "name": "python",
   "nbconvert_exporter": "python",
   "pygments_lexer": "ipython3",
   "version": "3.7.12"
  },
  "papermill": {
   "default_parameters": {},
   "duration": 52.966501,
   "end_time": "2023-04-01T16:40:19.468853",
   "environment_variables": {},
   "exception": null,
   "input_path": "__notebook__.ipynb",
   "output_path": "__notebook__.ipynb",
   "parameters": {},
   "start_time": "2023-04-01T16:39:26.502352",
   "version": "2.4.0"
  }
 },
 "nbformat": 4,
 "nbformat_minor": 5
}

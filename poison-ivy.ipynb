{
 "cells": [
  {
   "cell_type": "code",
   "execution_count": 1,
   "id": "c1bbfe85",
   "metadata": {
    "execution": {
     "iopub.execute_input": "2023-04-05T15:40:43.227216Z",
     "iopub.status.busy": "2023-04-05T15:40:43.226782Z",
     "iopub.status.idle": "2023-04-05T15:40:43.232512Z",
     "shell.execute_reply": "2023-04-05T15:40:43.231264Z"
    },
    "papermill": {
     "duration": 0.014133,
     "end_time": "2023-04-05T15:40:43.234802",
     "exception": false,
     "start_time": "2023-04-05T15:40:43.220669",
     "status": "completed"
    },
    "tags": []
   },
   "outputs": [],
   "source": [
    "#|default_exp app"
   ]
  },
  {
   "cell_type": "code",
   "execution_count": 2,
   "id": "65244b4c",
   "metadata": {
    "execution": {
     "iopub.execute_input": "2023-04-05T15:40:43.242996Z",
     "iopub.status.busy": "2023-04-05T15:40:43.242578Z",
     "iopub.status.idle": "2023-04-05T15:41:03.273996Z",
     "shell.execute_reply": "2023-04-05T15:41:03.272398Z"
    },
    "papermill": {
     "duration": 20.039287,
     "end_time": "2023-04-05T15:41:03.277486",
     "exception": false,
     "start_time": "2023-04-05T15:40:43.238199",
     "status": "completed"
    },
    "tags": []
   },
   "outputs": [
    {
     "name": "stdout",
     "output_type": "stream",
     "text": [
      "Collecting nbdev<2\r\n",
      "  Downloading nbdev-1.2.11-py3-none-any.whl (50 kB)\r\n",
      "\u001b[2K     \u001b[90m━━━━━━━━━━━━━━━━━━━━━━━━━━━━━━━━━━━━━━━━\u001b[0m \u001b[32m50.6/50.6 kB\u001b[0m \u001b[31m4.6 MB/s\u001b[0m eta \u001b[36m0:00:00\u001b[0m\r\n",
      "\u001b[?25hInstalling collected packages: nbdev\r\n",
      "Successfully installed nbdev-1.2.11\r\n",
      "\u001b[33mWARNING: Running pip as the 'root' user can result in broken permissions and conflicting behaviour with the system package manager. It is recommended to use a virtual environment instead: https://pip.pypa.io/warnings/venv\u001b[0m\u001b[33m\r\n",
      "\u001b[0m"
     ]
    }
   ],
   "source": [
    "! pip install -Uqq fastai gradio \n",
    "\n",
    "! pip install -U --no-deps 'nbdev<2'"
   ]
  },
  {
   "cell_type": "code",
   "execution_count": 3,
   "id": "85b9eddc",
   "metadata": {
    "execution": {
     "iopub.execute_input": "2023-04-05T15:41:03.290747Z",
     "iopub.status.busy": "2023-04-05T15:41:03.290292Z",
     "iopub.status.idle": "2023-04-05T15:41:03.897123Z",
     "shell.execute_reply": "2023-04-05T15:41:03.896087Z"
    },
    "papermill": {
     "duration": 0.616757,
     "end_time": "2023-04-05T15:41:03.899836",
     "exception": false,
     "start_time": "2023-04-05T15:41:03.283079",
     "status": "completed"
    },
    "tags": []
   },
   "outputs": [],
   "source": [
    "import nbdev.export as notebook2script"
   ]
  },
  {
   "cell_type": "code",
   "execution_count": 4,
   "id": "2482e66d",
   "metadata": {
    "execution": {
     "iopub.execute_input": "2023-04-05T15:41:03.909353Z",
     "iopub.status.busy": "2023-04-05T15:41:03.908362Z",
     "iopub.status.idle": "2023-04-05T15:41:11.309855Z",
     "shell.execute_reply": "2023-04-05T15:41:11.308475Z"
    },
    "papermill": {
     "duration": 7.409397,
     "end_time": "2023-04-05T15:41:11.313021",
     "exception": false,
     "start_time": "2023-04-05T15:41:03.903624",
     "status": "completed"
    },
    "tags": []
   },
   "outputs": [],
   "source": [
    "#|export\n",
    "import gradio as gr\n",
    "from fastai.vision.all import *"
   ]
  },
  {
   "cell_type": "code",
   "execution_count": 5,
   "id": "5521787c",
   "metadata": {
    "execution": {
     "iopub.execute_input": "2023-04-05T15:41:11.322518Z",
     "iopub.status.busy": "2023-04-05T15:41:11.322113Z",
     "iopub.status.idle": "2023-04-05T15:41:11.343194Z",
     "shell.execute_reply": "2023-04-05T15:41:11.342062Z"
    },
    "papermill": {
     "duration": 0.028873,
     "end_time": "2023-04-05T15:41:11.345714",
     "exception": false,
     "start_time": "2023-04-05T15:41:11.316841",
     "status": "completed"
    },
    "tags": []
   },
   "outputs": [
    {
     "data": {
      "text/plain": [
       "(#1) [Path('/kaggle/input/poison-ivy-infer/poison_ivy.jpg')]"
      ]
     },
     "execution_count": 5,
     "metadata": {},
     "output_type": "execute_result"
    }
   ],
   "source": [
    "path = Path('/kaggle/input/poison-ivy-infer/')\n",
    "path.ls()"
   ]
  },
  {
   "cell_type": "code",
   "execution_count": 6,
   "id": "8f200b3e",
   "metadata": {
    "execution": {
     "iopub.execute_input": "2023-04-05T15:41:11.355649Z",
     "iopub.status.busy": "2023-04-05T15:41:11.354706Z",
     "iopub.status.idle": "2023-04-05T15:41:11.360870Z",
     "shell.execute_reply": "2023-04-05T15:41:11.359834Z"
    },
    "papermill": {
     "duration": 0.013606,
     "end_time": "2023-04-05T15:41:11.363131",
     "exception": false,
     "start_time": "2023-04-05T15:41:11.349525",
     "status": "completed"
    },
    "tags": []
   },
   "outputs": [],
   "source": [
    "#|export\n",
    "plant_type = ['Boxelder plant', 'Jack-in-the-Pulpit plant', 'posion_ivy plant', 'virgina creeper plant']\n",
    "def classify_image(img):\n",
    "    is_poison,_,probs = learn.predict(img)\n",
    "    return dict(zip(plant_type, map(float,probs)))"
   ]
  },
  {
   "cell_type": "code",
   "execution_count": 7,
   "id": "ed6371ee",
   "metadata": {
    "execution": {
     "iopub.execute_input": "2023-04-05T15:41:11.372694Z",
     "iopub.status.busy": "2023-04-05T15:41:11.371977Z",
     "iopub.status.idle": "2023-04-05T15:41:12.602186Z",
     "shell.execute_reply": "2023-04-05T15:41:12.601071Z"
    },
    "papermill": {
     "duration": 1.238306,
     "end_time": "2023-04-05T15:41:12.605118",
     "exception": false,
     "start_time": "2023-04-05T15:41:11.366812",
     "status": "completed"
    },
    "tags": []
   },
   "outputs": [],
   "source": [
    "#|export\n",
    "learn = load_learner('/kaggle/input/posion-ivy-4-1-2023/model_1.pkl')"
   ]
  },
  {
   "cell_type": "code",
   "execution_count": 8,
   "id": "defbeadd",
   "metadata": {
    "execution": {
     "iopub.execute_input": "2023-04-05T15:41:12.614618Z",
     "iopub.status.busy": "2023-04-05T15:41:12.614211Z",
     "iopub.status.idle": "2023-04-05T15:41:12.917958Z",
     "shell.execute_reply": "2023-04-05T15:41:12.916991Z"
    },
    "papermill": {
     "duration": 0.311957,
     "end_time": "2023-04-05T15:41:12.920945",
     "exception": false,
     "start_time": "2023-04-05T15:41:12.608988",
     "status": "completed"
    },
    "tags": []
   },
   "outputs": [
    {
     "data": {
      "text/html": [
       "\n",
       "<style>\n",
       "    /* Turns off some styling */\n",
       "    progress {\n",
       "        /* gets rid of default border in Firefox and Opera. */\n",
       "        border: none;\n",
       "        /* Needs to be in here for Safari polyfill so background images work as expected. */\n",
       "        background-size: auto;\n",
       "    }\n",
       "    progress:not([value]), progress:not([value])::-webkit-progress-bar {\n",
       "        background: repeating-linear-gradient(45deg, #7e7e7e, #7e7e7e 10px, #5c5c5c 10px, #5c5c5c 20px);\n",
       "    }\n",
       "    .progress-bar-interrupted, .progress-bar-interrupted::-webkit-progress-bar {\n",
       "        background: #F44336;\n",
       "    }\n",
       "</style>\n"
      ],
      "text/plain": [
       "<IPython.core.display.HTML object>"
      ]
     },
     "metadata": {},
     "output_type": "display_data"
    },
    {
     "data": {
      "text/html": [],
      "text/plain": [
       "<IPython.core.display.HTML object>"
      ]
     },
     "metadata": {},
     "output_type": "display_data"
    },
    {
     "data": {
      "text/plain": [
       "{'Boxelder plant': 8.055522630456835e-05,\n",
       " 'Jack-in-the-Pulpit plant': 6.53628319469135e-07,\n",
       " 'posion_ivy plant': 0.9998688697814941,\n",
       " 'virgina creeper plant': 4.990909656044096e-05}"
      ]
     },
     "execution_count": 8,
     "metadata": {},
     "output_type": "execute_result"
    }
   ],
   "source": [
    "classify_image('/kaggle/input/poison-ivy-infer/poison_ivy.jpg')"
   ]
  },
  {
   "cell_type": "code",
   "execution_count": 9,
   "id": "ec861d5b",
   "metadata": {
    "execution": {
     "iopub.execute_input": "2023-04-05T15:41:12.932259Z",
     "iopub.status.busy": "2023-04-05T15:41:12.931840Z",
     "iopub.status.idle": "2023-04-05T15:41:19.527672Z",
     "shell.execute_reply": "2023-04-05T15:41:19.526517Z"
    },
    "papermill": {
     "duration": 6.604003,
     "end_time": "2023-04-05T15:41:19.530026",
     "exception": false,
     "start_time": "2023-04-05T15:41:12.926023",
     "status": "completed"
    },
    "tags": []
   },
   "outputs": [
    {
     "name": "stderr",
     "output_type": "stream",
     "text": [
      "/opt/conda/lib/python3.7/site-packages/gradio/inputs.py:258: UserWarning: Usage of gradio.inputs is deprecated, and will not be supported in the future, please import your component from gradio.components\n",
      "  \"Usage of gradio.inputs is deprecated, and will not be supported in the future, please import your component from gradio.components\",\n",
      "/opt/conda/lib/python3.7/site-packages/gradio/deprecation.py:40: UserWarning: `optional` parameter is deprecated, and it has no effect\n",
      "  warnings.warn(value)\n",
      "/opt/conda/lib/python3.7/site-packages/gradio/outputs.py:198: UserWarning: Usage of gradio.outputs is deprecated, and will not be supported in the future, please import your components from gradio.components\n",
      "  \"Usage of gradio.outputs is deprecated, and will not be supported in the future, please import your components from gradio.components\",\n",
      "/opt/conda/lib/python3.7/site-packages/gradio/deprecation.py:40: UserWarning: The 'type' parameter has been deprecated. Use the Number component instead.\n",
      "  warnings.warn(value)\n"
     ]
    },
    {
     "name": "stdout",
     "output_type": "stream",
     "text": [
      "Kaggle notebooks require sharing enabled. Setting `share=True` (you can turn this off by setting `share=False` in `launch()` explicitly).\n",
      "\n",
      "Running on local URL:  http://127.0.0.1:7860\n",
      "Running on public URL: https://a73c366c4c06eb0157.gradio.live\n",
      "\n",
      "This share link expires in 72 hours. For free permanent hosting and GPU upgrades (NEW!), check out Spaces: https://huggingface.co/spaces\n"
     ]
    },
    {
     "data": {
      "text/plain": []
     },
     "execution_count": 9,
     "metadata": {},
     "output_type": "execute_result"
    }
   ],
   "source": [
    "#|export\n",
    "image = gr.inputs.Image(shape=(192,192))\n",
    "label = gr.outputs.Label()\n",
    "examples= ['/kaggle/input/poison-ivy-infer/poison_ivy.jpg']\n",
    "\n",
    "intf = gr.Interface(fn=classify_image, inputs=image, outputs = label, examples = examples)\n",
    "intf.launch(inline=False)"
   ]
  },
  {
   "cell_type": "code",
   "execution_count": 10,
   "id": "d56ae890",
   "metadata": {
    "execution": {
     "iopub.execute_input": "2023-04-05T15:41:19.542396Z",
     "iopub.status.busy": "2023-04-05T15:41:19.541329Z",
     "iopub.status.idle": "2023-04-05T15:41:19.546127Z",
     "shell.execute_reply": "2023-04-05T15:41:19.545257Z"
    },
    "papermill": {
     "duration": 0.013903,
     "end_time": "2023-04-05T15:41:19.548525",
     "exception": false,
     "start_time": "2023-04-05T15:41:19.534622",
     "status": "completed"
    },
    "tags": []
   },
   "outputs": [],
   "source": [
    "# notebook2script('poison_ivy.ipynb')"
   ]
  }
 ],
 "metadata": {
  "kernelspec": {
   "display_name": "Python 3",
   "language": "python",
   "name": "python3"
  },
  "language_info": {
   "codemirror_mode": {
    "name": "ipython",
    "version": 3
   },
   "file_extension": ".py",
   "mimetype": "text/x-python",
   "name": "python",
   "nbconvert_exporter": "python",
   "pygments_lexer": "ipython3",
   "version": "3.7.12"
  },
  "papermill": {
   "default_parameters": {},
   "duration": 50.347495,
   "end_time": "2023-04-05T15:41:22.173811",
   "environment_variables": {},
   "exception": null,
   "input_path": "__notebook__.ipynb",
   "output_path": "__notebook__.ipynb",
   "parameters": {},
   "start_time": "2023-04-05T15:40:31.826316",
   "version": "2.4.0"
  }
 },
 "nbformat": 4,
 "nbformat_minor": 5
}

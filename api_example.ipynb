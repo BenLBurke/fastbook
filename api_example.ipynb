{
 "cells": [
  {
   "cell_type": "code",
   "execution_count": 15,
   "metadata": {},
   "outputs": [],
   "source": [
    "import base64\n",
    "\n",
    "with open(\"images/poison_ivy.jpg\", \"rb\") as image_file:\n",
    "    encoded_string = base64.b64encode(image_file.read())"
   ]
  },
  {
   "cell_type": "code",
   "execution_count": 16,
   "metadata": {},
   "outputs": [],
   "source": [
    "import requests\n",
    "\n",
    "response = requests.post(\"https://straka-poison-ivy.hf.space/run/predict\", json={\n",
    "\t\"data\": [\n",
    "\t\tf\"data:image/jpg;base64,{encoded_string.decode('utf-8')}==\",\n",
    "\t]\n",
    "}).json()\n",
    "\n",
    "data = response[\"data\"]"
   ]
  },
  {
   "cell_type": "code",
   "execution_count": 17,
   "metadata": {},
   "outputs": [
    {
     "name": "stdout",
     "output_type": "stream",
     "text": [
      "This is a posion_ivy plant. I'm 99.98564720153809% sure.\n"
     ]
    }
   ],
   "source": [
    "prediction = data[0]['label']\n",
    "confidence = data[0]['confidences'][0]['confidence']\n",
    "\n",
    "print(f\"This is a {prediction}. I'm {confidence*100}% sure.\")"
   ]
  }
 ],
 "metadata": {
  "kernelspec": {
   "display_name": "base",
   "language": "python",
   "name": "python3"
  },
  "language_info": {
   "codemirror_mode": {
    "name": "ipython",
    "version": 3
   },
   "file_extension": ".py",
   "mimetype": "text/x-python",
   "name": "python",
   "nbconvert_exporter": "python",
   "pygments_lexer": "ipython3",
   "version": "3.9.12"
  },
  "orig_nbformat": 4,
  "vscode": {
   "interpreter": {
    "hash": "76f5eee9d3edaa5751def4466c081ebede42414ed8f2081b2445ecb0990658d9"
   }
  }
 },
 "nbformat": 4,
 "nbformat_minor": 2
}

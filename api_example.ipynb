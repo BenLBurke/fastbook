{
 "cells": [
  {
   "cell_type": "code",
   "execution_count": 2,
   "metadata": {},
   "outputs": [],
   "source": [
    "import base64\n",
    "\n",
    "with open(\"images/poison_ivy.jpg\", \"rb\") as image_file:\n",
    "    encoded_string = base64.b64encode(image_file.read())"
   ]
  },
  {
   "cell_type": "code",
   "execution_count": 3,
   "metadata": {},
   "outputs": [],
   "source": [
    "import requests\n",
    "\n",
    "response = requests.post(\"https://straka-poison-ivy.hf.space/run/predict\", json={\n",
    "\t\"data\": [\n",
    "\t\tf\"data:image/jpg;base64,{encoded_string.decode('utf-8')}==\",\n",
    "\t]\n",
    "}).json()\n",
    "\n",
    "data = response[\"data\"]"
   ]
  },
  {
   "cell_type": "code",
   "execution_count": 12,
   "metadata": {},
   "outputs": [
    {
     "name": "stdout",
     "output_type": "stream",
     "text": [
      "This is a posion_ivy plant. I'm 99.98564720153809% sure.\n"
     ]
    }
   ],
   "source": [
    "prediction = data[0]['label']\n",
    "confidence = data[0]['confidences'][0]['confidence']\n",
    "\n",
    "print(f\"This is a {prediction}. I'm {confidence*100}% sure.\")"
   ]
  },
  {
   "cell_type": "code",
   "execution_count": 21,
   "metadata": {},
   "outputs": [
    {
     "ename": "TypeError",
     "evalue": "can't concat str to bytes",
     "output_type": "error",
     "traceback": [
      "\u001b[1;31m---------------------------------------------------------------------------\u001b[0m",
      "\u001b[1;31mTypeError\u001b[0m                                 Traceback (most recent call last)",
      "\u001b[1;32mUntitled-1.ipynb Cell 3\u001b[0m in \u001b[0;36m<cell line: 1>\u001b[1;34m()\u001b[0m\n\u001b[1;32m----> <a href='vscode-notebook-cell:Untitled-1.ipynb?jupyter-notebook#W4sdW50aXRsZWQ%3D?line=0'>1</a>\u001b[0m encoded_string \u001b[39m=\u001b[39m (encoded_string \u001b[39m+\u001b[39;49m \u001b[39m'\u001b[39;49m\u001b[39m===\u001b[39;49m\u001b[39m'\u001b[39;49m)\u001b[39m.\u001b[39mslice(\u001b[39m0\u001b[39m, encoded_string\u001b[39m.\u001b[39mlength \u001b[39m+\u001b[39m (encoded_string\u001b[39m.\u001b[39mlength \u001b[39m%\u001b[39m \u001b[39m4\u001b[39m))\n\u001b[0;32m      <a href='vscode-notebook-cell:Untitled-1.ipynb?jupyter-notebook#W4sdW50aXRsZWQ%3D?line=1'>2</a>\u001b[0m encoded_string \u001b[39m=\u001b[39m encoded_string\u001b[39m.\u001b[39mreplace(\u001b[39m'\u001b[39m\u001b[39m-\u001b[39m\u001b[39m'\u001b[39m, \u001b[39m'\u001b[39m\u001b[39m+\u001b[39m\u001b[39m'\u001b[39m)\u001b[39m.\u001b[39mreplace(\u001b[39m'\u001b[39m\u001b[39m_\u001b[39m\u001b[39m'\u001b[39m, \u001b[39m'\u001b[39m\u001b[39m/\u001b[39m\u001b[39m'\u001b[39m)\n",
      "\u001b[1;31mTypeError\u001b[0m: can't concat str to bytes"
     ]
    }
   ],
   "source": [
    "encoded_string = (encoded_string + '===').slice(0, encoded_string.length + (encoded_string.length % 4))\n",
    "encoded_string = encoded_string.replace('-', '+').replace('_', '/')"
   ]
  },
  {
   "cell_type": "code",
   "execution_count": 5,
   "metadata": {},
   "outputs": [
    {
     "data": {
      "text/plain": [
       "[{'label': 'Boxelder plant',\n",
       "  'confidences': [{'label': 'Boxelder plant',\n",
       "    'confidence': 0.9178255796432495},\n",
       "   {'label': 'virgina creeper plant', 'confidence': 0.07624094933271408},\n",
       "   {'label': 'posion_ivy plant', 'confidence': 0.005860122852027416},\n",
       "   {'label': 'Jack-in-the-Pulpit plant',\n",
       "    'confidence': 7.336206181207672e-05}]}]"
      ]
     },
     "execution_count": 5,
     "metadata": {},
     "output_type": "execute_result"
    }
   ],
   "source": [
    "data"
   ]
  }
 ],
 "metadata": {
  "kernelspec": {
   "display_name": "base",
   "language": "python",
   "name": "python3"
  },
  "language_info": {
   "codemirror_mode": {
    "name": "ipython",
    "version": 3
   },
   "file_extension": ".py",
   "mimetype": "text/x-python",
   "name": "python",
   "nbconvert_exporter": "python",
   "pygments_lexer": "ipython3",
   "version": "3.9.12"
  },
  "orig_nbformat": 4,
  "vscode": {
   "interpreter": {
    "hash": "76f5eee9d3edaa5751def4466c081ebede42414ed8f2081b2445ecb0990658d9"
   }
  }
 },
 "nbformat": 4,
 "nbformat_minor": 2
}

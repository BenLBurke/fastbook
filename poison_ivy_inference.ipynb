{
 "cells": [
  {
   "cell_type": "code",
   "execution_count": 2,
   "metadata": {},
   "outputs": [],
   "source": [
    "import gradio as gr\n",
    "from fastai.vision.all import *"
   ]
  },
  {
   "cell_type": "code",
   "execution_count": null,
   "metadata": {},
   "outputs": [],
   "source": [
    "plant_type = ['Boxelder plant', 'Jack-in-the-Pulpit plant', 'posion_ivy plant', 'virgina creeper plant']\n",
    "def classify_image(img):\n",
    "\n",
    "    is_poison,_,probs = learn.predict(img)\n",
    "    return dict(zip(plant_type, map(float,probs)))"
   ]
  },
  {
   "cell_type": "code",
   "execution_count": null,
   "metadata": {},
   "outputs": [],
   "source": [
    "learn = load_learner('model_1.pkl')"
   ]
  },
  {
   "cell_type": "code",
   "execution_count": null,
   "metadata": {},
   "outputs": [],
   "source": [
    "image = gr.inputs.Image(shape=(192,192))\n",
    "label = gr.outputs.Label()\n",
    "examples= ['poison_ivy.jpg', 'virgina_creeper.jpg', 'box_elder.jpg','box_elder.jpg']\n",
    "\n",
    "intf = gr.Interface(fn=classify_image, inputs=image, outputs = label, examples = examples)\n",
    "intf.launch(inline=False)\n"
   ]
  }
 ],
 "metadata": {
  "kernelspec": {
   "display_name": "base",
   "language": "python",
   "name": "python3"
  },
  "language_info": {
   "codemirror_mode": {
    "name": "ipython",
    "version": 3
   },
   "file_extension": ".py",
   "mimetype": "text/x-python",
   "name": "python",
   "nbconvert_exporter": "python",
   "pygments_lexer": "ipython3",
   "version": "3.9.12"
  },
  "orig_nbformat": 4,
  "vscode": {
   "interpreter": {
    "hash": "76f5eee9d3edaa5751def4466c081ebede42414ed8f2081b2445ecb0990658d9"
   }
  }
 },
 "nbformat": 4,
 "nbformat_minor": 2
}
